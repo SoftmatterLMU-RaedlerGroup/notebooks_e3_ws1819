{
 "cells": [
  {
   "cell_type": "code",
   "execution_count": null,
   "metadata": {},
   "outputs": [],
   "source": [
    "#Alle Längen in Mircometer\n",
    "import numpy as np\n",
    "import numpy.random as nrd\n",
    "import matplotlib.pyplot as plt\n",
    "import math as m\n",
    "\n"
   ]
  },
  {
   "cell_type": "code",
   "execution_count": null,
   "metadata": {},
   "outputs": [],
   "source": [
    "#initialisiere Gitter\n",
    "#zu verändernde Parameter:\n",
    "abstandX = 1\n",
    "abstandY = 1\n",
    "anzahl_gitterpunkte = 10\n",
    "wellenlaenge = 0.1\n",
    "\n",
    "A_0 = 1\n",
    "\n",
    "k = m.pi*2/wellenlaenge\n",
    "gitter = np.transpose(np.fromfunction(lambda i,j: [(i-anzahl_gitterpunkte/2)*abstandX, (j-anzahl_gitterpunkte/2)*abstandY], (anzahl_gitterpunkte, anzahl_gitterpunkte),dtype = float))\n",
    "gitter = gitter.reshape((anzahl_gitterpunkte**2,2))\n",
    "\n"
   ]
  },
  {
   "cell_type": "code",
   "execution_count": null,
   "metadata": {},
   "outputs": [],
   "source": [
    "#Funktion um Intensitaetsverteilung zu berechnen\n",
    "def intensitaet (xs,ys,z,git):\n",
    "    amplitude = np.zeros((len(xs), len(ys)), dtype = complex)\n",
    "    i=0\n",
    "    j=0\n",
    "    for x in xs:\n",
    "        j=0\n",
    "        for y in ys:\n",
    "            l = np.sqrt(z**2+(x-git[:,0])**2+(y-git[:,1])**2)\n",
    "            amplitude[i,j] = np.sum(A_0*np.exp(1j*k*l))\n",
    "            j=j+1\n",
    "        i=i+1\n",
    "    return (abs(amplitude)**2)"
   ]
  },
  {
   "cell_type": "code",
   "execution_count": null,
   "metadata": {},
   "outputs": [],
   "source": [
    "#Berechne gestreute Intensität in Abstand z von Gitter\n",
    "\n",
    "detsize = 1e8  # Größe Detektorfenster \n",
    "z      = 5e8   # Abstand der Detektionsebene vom Gitter in nm 1e9=1m\n",
    "detres = 400  #Auflösung des Detektors (Anzahl Pixel pro Richtung)\n",
    "\n",
    "detector = np.linspace(-detsize,detsize,detres)\n",
    "intensitaeten = intensitaet(detector, detector,z,gitter)\n",
    "pl = anzahl_gitterpunkte * max(abstandX,abstandY)  # nur für Anzeige Gitter\n",
    "fig = plt.figure(figsize=(16,8))\n",
    "ax = fig.add_subplot(121)\n",
    "axes = plt.gca()\n",
    "axes.set_xlim([-pl,pl])\n",
    "axes.set_ylim([-pl,pl])\n",
    "ax.plot(gitter[:,0],gitter[:,1], '.', )\n",
    "ax = fig.add_subplot(122)\n",
    "\n",
    "  \n",
    "plt.imshow(intensitaeten[:,:] ,  cmap='gray')\n",
    "plt.title('Intensität ideales Gitter')\n",
    "plt.show()\n"
   ]
  },
  {
   "cell_type": "code",
   "execution_count": null,
   "metadata": {},
   "outputs": [],
   "source": [
    "#versehe alle Gitterpunkte mit einem Positionsfehler\n",
    "fehlerX = 0.5\n",
    "fehlerY = 0.1\n",
    "fehlerX = (0.5-nrd.rand(anzahl_gitterpunkte**2))*fehlerX\n",
    "fehlerY = (0.5-nrd.rand(anzahl_gitterpunkte**2))*fehlerY\n",
    "errgitter = gitter.copy()\n",
    "errgitter[:,0] = errgitter[:,0]+fehlerX\n",
    "errgitter[:,1] = errgitter[:,1]+fehlerY"
   ]
  },
  {
   "cell_type": "code",
   "execution_count": null,
   "metadata": {},
   "outputs": [],
   "source": [
    "intensitaeten = (intensitaet(detector, detector, z, errgitter))\n",
    "fig = plt.figure(figsize=(16,8))\n",
    "ax = fig.add_subplot(121)\n",
    "axes = plt.gca()\n",
    "axes.set_xlim([-pl,pl])\n",
    "axes.set_ylim([-pl,pl])\n",
    "ax.plot(errgitter[:,0],errgitter[:,1], '.', )\n",
    "ax = fig.add_subplot(122)\n",
    "\n",
    "#ax.contourf(detector, detector, intensitaeten)\n",
    "\n",
    "plt.imshow(intensitaeten[:,:] ,  cmap='gray')\n",
    "plt.title('Intensität Gitter mit Auslenkung')\n",
    "plt.show()\n"
   ]
  },
  {
   "cell_type": "code",
   "execution_count": null,
   "metadata": {},
   "outputs": [],
   "source": []
  },
  {
   "cell_type": "code",
   "execution_count": null,
   "metadata": {},
   "outputs": [],
   "source": []
  }
 ],
 "metadata": {
  "kernelspec": {
   "display_name": "Python 3",
   "language": "python",
   "name": "python3"
  },
  "language_info": {
   "codemirror_mode": {
    "name": "ipython",
    "version": 3
   },
   "file_extension": ".py",
   "mimetype": "text/x-python",
   "name": "python",
   "nbconvert_exporter": "python",
   "pygments_lexer": "ipython3",
   "version": "3.7.1"
  }
 },
 "nbformat": 4,
 "nbformat_minor": 2
}
