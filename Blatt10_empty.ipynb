{
 "cells": [
  {
   "cell_type": "code",
   "execution_count": null,
   "metadata": {},
   "outputs": [],
   "source": [
    "import numpy as np\n",
    "import matplotlib.pyplot as plt\n",
    "\n",
    "# Define Functions #\n",
    "\n",
    "def get_frauenhofer_bild( blendenfkt):\n",
    "    \n",
    "     U_frauenhofer = np.fft.fftshift(np.fft.fftn(np.fft.ifftshift(blendenfkt)))   \n",
    "     return U_frauenhofer\n",
    "\n",
    "def get_fresnel_bild_1D( blendenfkt, x, distance, wavelength):\n",
    "    \n",
    "    # Make sure blendenfkt is given as function of (x*R, y*R)!!\n",
    "    \n",
    "    k = 2*np.pi/wavelength\n",
    "    quadratic_phase = np.exp(1j*k*(x**2)/(2*distance))\n",
    "    quadratic_phase_scaled = np.exp(1j*k*distance*(x**2)/2)\n",
    "    h = (np.exp(1j*k*distance)*quadratic_phase)/(1j*wavelength*distance)\n",
    "    function_to_transform = blendenfkt*quadratic_phase_scaled\n",
    "    \n",
    "    U_fresnel = h*np.fft.fftshift(np.fft.fft( np.fft.ifftshift(function_to_transform)))\n",
    "    \n",
    "    return U_fresnel\n",
    "\n",
    "# Set size of grid and define x, y\n",
    "num_points = 1000\n",
    "resolution = 1/num_points\n",
    "\n",
    "xy = np.mgrid[0:num_points+1, 0:num_points+1] # make grid of points\n",
    "midpt = num_points/2\n",
    "xi = (xy[0,:,:] - midpt)*resolution     # x is now centered about 0 and ranges from -0.5.. 0.5\n",
    "eta = (xy[1,:,:] - midpt)*resolution    # same for y\n"
   ]
  },
  {
   "cell_type": "code",
   "execution_count": null,
   "metadata": {},
   "outputs": [],
   "source": [
    "# Circular Aperture (Blende 2: smaller, constant Blendenfunktion)\n",
    "window_radius = .05\n",
    "window_circ = np.sqrt(xi**2 + eta**2) < window_radius\n",
    "blende2 = window_circ\n",
    "plt.figure(2)\n",
    "plt.imshow(blende2[400:600,400:600])\n",
    "plt.title('Blende2')\n",
    "plt.show()\n",
    "# Set aperture, get diffraction pattern and plot\n",
    "\n",
    "blende = blende2\n",
    "\n",
    "frauenhofer_bild = (np.real(get_frauenhofer_bild(blende)))   # may not be perfectly real due to discreteness\n",
    "with np.errstate(invalid='ignore'): frauenhofer_bild = np.log10((frauenhofer_bild/np.max(frauenhofer_bild)))# normalize to 1\n",
    "#frauenhofer_bild = np.log10((frauenhofer_bild/np.max(frauenhofer_bild)))# normalize to 1, better constrast\n",
    "\n",
    "plt.figure(2)\n",
    "plt.imshow((frauenhofer_bild[400:600,400:600]) ,  cmap='gray_r') # Plot. \"Extent\" gives x- and y-axis limits\n",
    "plt.title('Frauenhofer-Beugungsbild Blende 2 ')"
   ]
  },
  {
   "cell_type": "code",
   "execution_count": null,
   "metadata": {},
   "outputs": [],
   "source": [
    "# Rectangular Aperture (Blende 1, moduliert mit cos-Fnkt.)\n",
    "window_width = .03\n",
    "window_height= .03\n",
    "windowx = np.abs(xi)<window_width    # define boundaries of rectangular aperture\n",
    "windowy = np.abs(eta)<window_height\n",
    "a=0.02\n",
    "#blende1 = windowx*windowy*.5*(1+0*np.cos(2*np.pi/a*xi))#np.sqrt(x**2 + y**2)*2)\n",
    "blende1 = windowx*windowy*.5*(1+np.cos(2*np.pi/a*xi))#np.sqrt(x**2 + y**2)*2)\n",
    "\n",
    "\n",
    "plt.figure(1)\n",
    "plt.imshow(blende1[450:550,450:550])\n",
    "plt.title('Blende1')\n",
    "plt.show()\n",
    "\n",
    "blende = blende1\n",
    "frauenhofer_bild = np.real(get_frauenhofer_bild(blende))   # may not be perfectly real due to discreteness\n",
    "#frauenhofer_bild = (frauenhofer_bild/np.max(frauenhofer_bild)) # normalize to 1\n",
    "with np.errstate(invalid='ignore'):frauenhofer_bild = np.log10((frauenhofer_bild/np.max(frauenhofer_bild)))# normalize to 1\n",
    "\n",
    "\n",
    "plt.figure(2)\n",
    "plt.imshow((frauenhofer_bild[200:800,200:800]) , cmap='gray_r') # Plot. \"Extent\" gives x- and y-axis limits\n",
    "plt.title('Frauenhofer-Beugungsbild Blende 1 ')\n"
   ]
  },
  {
   "cell_type": "code",
   "execution_count": null,
   "metadata": {},
   "outputs": [],
   "source": [
    "# 1D Fresnel Beugung\n",
    "    \n",
    "num_points_1d = 100000      # number of points in our grid\n",
    "resolution_1d = 1/num_points \n",
    "    \n",
    "x1d = np.linspace(-.5, .5, num_points_1d+1) \n",
    "\n",
    "distance = 100 # distance from Schirm\n",
    "\n",
    "schlitz=0.2/2\n",
    "blende_rect = distance*np.abs(x1d) < schlitz # \\Omega(R*x, R*y) must be scaled so that we can just take normal Fourier Trafo\n",
    "blende_rect_not_scaled = np.abs(x1d) < schlitz # nonscaled, for plotting\n",
    "\n",
    "fres = get_fresnel_bild_1D( blende_rect, x1d, distance, 1e-5)\n",
    "fres = np.abs(fres)/np.abs(fres[int(num_points_1d/2+1)]) #normalize\n",
    "plt.figure(3)\n",
    "\n",
    "\n",
    "plt.plot(x1d, fres**2)\n",
    "plt.plot(x1d, blende_rect_not_scaled)\n",
    "plt.title('Fresnel Beugungsbild Schlitzblende')\n",
    "\n",
    "plt.show()"
   ]
  },
  {
   "cell_type": "code",
   "execution_count": null,
   "metadata": {},
   "outputs": [],
   "source": []
  },
  {
   "cell_type": "code",
   "execution_count": null,
   "metadata": {},
   "outputs": [],
   "source": []
  }
 ],
 "metadata": {
  "kernelspec": {
   "display_name": "Python 3",
   "language": "python",
   "name": "python3"
  },
  "language_info": {
   "codemirror_mode": {
    "name": "ipython",
    "version": 3
   },
   "file_extension": ".py",
   "mimetype": "text/x-python",
   "name": "python",
   "nbconvert_exporter": "python",
   "pygments_lexer": "ipython3",
   "version": "3.7.1"
  }
 },
 "nbformat": 4,
 "nbformat_minor": 2
}
