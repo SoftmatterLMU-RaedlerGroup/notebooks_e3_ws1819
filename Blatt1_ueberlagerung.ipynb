{
 "cells": [
  {
   "cell_type": "markdown",
   "metadata": {},
   "source": [
    "## Übungsblatt 1: Überlagerung laufender Wellen\n",
    "\n",
    "Im folgenden sollen Sie die Aufgabe 2 c) des Übungsblattes graphische nachvollziehen. Kompilieren Sie das Programm, indem Sie alle Zellen kompilieren (\"Run\").\n",
    "\n",
    "Die folgende Zelle gibt die verwendeten Python Bibliotheken an:\n",
    "* numpy: Numerische Operation (Fouriertransformation), Funktionen (Sinus, Cosinus)\n",
    "* matplotlib: mathematische Darstellungen wie Plots und Animationen"
   ]
  },
  {
   "cell_type": "code",
   "execution_count": null,
   "metadata": {},
   "outputs": [],
   "source": [
    "# Überlagerung von Wellenpaketen\n",
    "\n",
    "#Importiere Bibiliotheken\n",
    "%matplotlib inline\n",
    "import numpy as np\n",
    "import matplotlib.pyplot as plt  \n",
    "import matplotlib.animation as animation\n",
    "plt.rcParams[\"animation.html\"] = \"jshtml\"\n"
   ]
  },
  {
   "cell_type": "markdown",
   "metadata": {},
   "source": [
    "Im folgenden können Sie die Wellenzahl k, die Amplitude f1 und die Phase phi variieren. Die Frequenz w ist über Dispersionsrelation w = c k von k abhängig.\n"
   ]
  },
  {
   "cell_type": "code",
   "execution_count": null,
   "metadata": {},
   "outputs": [],
   "source": [
    "#Variablen (Frequenz w, Welllenzahl k, Amplitude f1, Phase phi)\n",
    "\n",
    "A1=1.0    # Amplitude Welle 1\n",
    "A2=1.0    # Amplitude Welle 2\n",
    "c = 0.1   # Phasengeschwindigkeit\n",
    "k = 0.8   # Wellenvektor\n",
    "w = k*c   # Frequenz\n",
    "\n",
    "phi=1.0*np.pi   # Phase der  Welle 2 : phase 180°= Pi\n",
    "\n",
    "range=3    # only for plotting\n",
    "pi=3.14    # only for plotting"
   ]
  },
  {
   "cell_type": "markdown",
   "metadata": {},
   "source": [
    "Die folgende Zelle bereitet den Plot (Achsen sowie Achsenbeschriftung) vor, und wraz so, dass mehrere Perioden zu sehen sind"
   ]
  },
  {
   "cell_type": "code",
   "execution_count": null,
   "metadata": {},
   "outputs": [],
   "source": [
    "%%capture\n",
    "\n",
    "#Programmcode für die Animation\n",
    "\n",
    "\"\"\"\n",
    "Matplotlib Animation Example\n",
    "\n",
    "author: Jake Vanderplas\n",
    "email: vanderplas@astro.washington.edu\n",
    "website: http://jakevdp.github.com\n",
    "license: BSD\n",
    "Please feel free to use and modify this, but keep the above information. Thanks!\n",
    "\"\"\"\n",
    "\n",
    "# First set up the figure, the axis, and the plot element we want to animate\n",
    "fig = plt.figure()\n",
    "ax = plt.axes(xlim=(-range*pi/k, range*pi/k), ylim=(-1.5*(A1+A2), 1.5*(A1+A2)))\n",
    "line, = ax.plot([], [], lw=2)\n",
    "\n",
    "plt.xlabel('Position (x)')\n",
    "plt.ylabel('Amplitude)')\n",
    "plt.grid(True)\n",
    "\n",
    "# initialization function: plot the background of each frame\n",
    "def init():\n",
    "    line.set_data([], [])\n",
    "    return line,\n"
   ]
  },
  {
   "cell_type": "markdown",
   "metadata": {},
   "source": [
    "Nun definieren wir Funktionen, welche den Wertebereich und die Funktionswerte ausgibt. Dies wird für die beiden Wellen aus der Aufgabe 2 c) und für ihre Superposition durchgeführt. \n",
    "\n",
    "Zuletzt wird die Methode zur Animation aufgerufen. Dieser werden unter anderem die Plots sowie die Funktionen übergeben."
   ]
  },
  {
   "cell_type": "code",
   "execution_count": null,
   "metadata": {},
   "outputs": [],
   "source": [
    "\n",
    "# animation function for the first wave (running forward)\n",
    "def animate_forward(i):\n",
    "    x = np.linspace(-range*pi/k, +range*pi/k, 1000)\n",
    "    f1 = A1*np.cos(w * i - x*k )\n",
    "    line.set_data(x, f1)\n",
    "    return line,\n",
    "\n",
    "# animation function for the second wave (running backwards)\n",
    "def animate_backward(i):\n",
    "    x = np.linspace(-range*pi/k, +range*pi/k, 1000)\n",
    "    f2 =A2* np.cos( w * i+ x*k +phi)\n",
    "    line.set_data(x, f2)\n",
    "    return line,\n",
    "\n",
    "# animation function for the superposition of both waves\n",
    "def animate_sum(i):\n",
    "    x = np.linspace(-range*pi/k, +range*pi/k, 1000)\n",
    "    y = A1*np.cos(w * i - x*k ) + A2* np.cos( w * i+ x*k +phi)\n",
    "    #  y =  A1*np.cos(w * i - x*k ) + A2* np.cos( w*1.2 * i+ x*k*1.2 +phi)   # try me:-)\n",
    "    line.set_data(x, y)\n",
    "    return line,\n",
    "\n",
    "\n",
    "\n",
    "\n",
    "\n",
    "# call the animator.  blit=True means only re-draw the parts that have changed.\n",
    "forward_animation = animation.FuncAnimation(fig, animate_forward, init_func=init,\n",
    "                               frames=200, interval=10, blit=True)\n",
    "\n",
    "# call the animator.  blit=True means only re-draw the parts that have changed.\n",
    "backward_animation = animation.FuncAnimation(fig, animate_backward, init_func=init,\n",
    "                               frames=200, interval=10, blit=True)\n",
    "\n",
    "\n",
    "# call the animator.  blit=True means only re-draw the parts that have changed.\n",
    "summen_animation = animation.FuncAnimation(fig, animate_sum, init_func=init,\n",
    "                               frames=200, interval=10, blit=True)\n",
    "\n",
    "\n",
    "plt.show()"
   ]
  },
  {
   "cell_type": "code",
   "execution_count": null,
   "metadata": {},
   "outputs": [],
   "source": [
    "forward_animation"
   ]
  },
  {
   "cell_type": "code",
   "execution_count": null,
   "metadata": {
    "scrolled": false
   },
   "outputs": [],
   "source": [
    "backward_animation\n"
   ]
  },
  {
   "cell_type": "code",
   "execution_count": null,
   "metadata": {},
   "outputs": [],
   "source": [
    "summen_animation"
   ]
  },
  {
   "cell_type": "code",
   "execution_count": null,
   "metadata": {},
   "outputs": [],
   "source": []
  },
  {
   "cell_type": "code",
   "execution_count": null,
   "metadata": {},
   "outputs": [],
   "source": []
  }
 ],
 "metadata": {
  "kernelspec": {
   "display_name": "Python 3",
   "language": "python",
   "name": "python3"
  },
  "language_info": {
   "codemirror_mode": {
    "name": "ipython",
    "version": 3
   },
   "file_extension": ".py",
   "mimetype": "text/x-python",
   "name": "python",
   "nbconvert_exporter": "python",
   "pygments_lexer": "ipython3",
   "version": "3.6.6"
  }
 },
 "nbformat": 4,
 "nbformat_minor": 2
}
