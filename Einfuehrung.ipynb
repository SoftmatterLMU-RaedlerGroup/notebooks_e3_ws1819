{
 "cells": [
  {
   "cell_type": "markdown",
   "metadata": {},
   "source": [
    "# Einführung in Python und Notebooks\n",
    "\n",
    "In dieser Übung werden Sie sich mit Python und Jupyter-Notebooks vertraut machen."
   ]
  },
  {
   "cell_type": "markdown",
   "metadata": {},
   "source": [
    "## a) Zellen ausführen\n",
    "Jedes Notebook ist aus Zellen aufgebaut.\n",
    "Jede Zelle kann entweder Beschreibungstext (wie diesen hier) oder ausführbaren Programmcode enthalten.\n",
    "Wenn Sie auf eine beliebige Stelle im Notebook klicken, wird die entsprechende Zelle angewählt und als Rahmen angezeigt.\n",
    "\n",
    "Um den Code in einer Zelle auszuführen, markieren Sie die Zelle und klicken dann entweder oben auf `▶ Run` oder drücken die Tastenkombination `Strg + Enter`.\n",
    "Um alle Zellen hintereinander auszuführen, wählen Sie im Menü oben `Cell ➔ Run all`.\n",
    "\n",
    "Führen Sie die folgende Code-Zelle aus.\n",
    "Die Ausgabe der Zelle wird dann unter dem Code angezeigt."
   ]
  },
  {
   "cell_type": "code",
   "execution_count": null,
   "metadata": {},
   "outputs": [],
   "source": [
    "print(\"Hallo Welt!\")"
   ]
  },
  {
   "cell_type": "markdown",
   "metadata": {},
   "source": [
    "## b) Numerische Daten plotten\n",
    "\n",
    "Als nächstes werden Sie den Verlauf von $f(x) = \\sin(x)$ im Intervall $[0, 10]$ plotten.\n",
    "\n",
    "Bevor Sie die Werte plotten können, müssen Sie zuerst die zwei Pakete `numpy` und `matplotlib` laden.\n",
    "Das sind umfangreiche Sammlungen an Code, mit denen Sie sich Einiges an Arbeit ersparen.\n",
    "\n",
    "Laden Sie nun die beiden Pakete, indem Sie die folgende Zelle ausführen."
   ]
  },
  {
   "cell_type": "code",
   "execution_count": null,
   "metadata": {},
   "outputs": [],
   "source": [
    "import numpy as np\n",
    "import matplotlib.pyplot as plt"
   ]
  },
  {
   "cell_type": "markdown",
   "metadata": {},
   "source": [
    "Unter der Zelle wird nichts angezeigt, weil die Zelle keine Ausgabe erzeugt, sondern nur die beiden Pakete lädt.\n",
    "\n",
    "Wenn Sie stattdessen die Ausgabe „ModuleNotFoundError“ sehen, sind die Pakete nicht installiert.\n",
    "Installieren Sie dann die Pakete `numpy` und `matplotlib` und starten Sie das Notebook neu.\n",
    "\n",
    "Die beiden Pakete, die Sie soeben geladen haben, werden Sie noch oft verwenden.\n",
    "Das Paket `numpy` erleichtert numerische Berechnungen, insbesondere indem es Berechnungen an ein- oder mehrdimensionalen Listen an Zahlen (sog. Arrays) bereitstellt.\n",
    "Das Paket `matplotlib` wird benötigt, um Werte zu plotten.\n",
    "In den meisten Fällen genügt es, nur den Teil `matplotlib.pyplot` zu laden.\n",
    "\n",
    "Um zu vermeiden, dass der Name eines Pakets jedes Mal komplett ausgeschrieben werden muss, wenn Sie darauf zugreifen wollen, können Sie eine Abkürzung definieren.\n",
    "Wie oben gezeigt, schreiben Sie dazu nach dem Import-Befehl das Stichwort `as` und dann die gewünschte Abkürzung."
   ]
  },
  {
   "cell_type": "markdown",
   "metadata": {},
   "source": [
    "In der folgenden Zelle definieren Sie ein Array, also eine Liste, all der Zahlen, an denen $f(x)$ zum Plotten ausgewertet werden soll.\n",
    "Dafür eignet sich die Funktion `linspace` von `numpy`.\n",
    "\n",
    "Der Begriff „Funktion“ wird in Python für Code-Segmente verwendet wird, die einmal definiert werden und beliebig oft verwendet („aufgerufen“) werden können, auch mit wechselnden Parametern.\n",
    "\n",
    "Funktionen werden aufgerufen, indem nach dem Funktionsnamen ein Klammerpaar geschrieben wird.\n",
    "Um einer Funktion Parameter zu übergeben, können diese, durch Kommas getrennt, in die Klammern geschrieben werden.\n",
    "Der folgende Funktionsaufruf erzeugt zum Beispiel ein Array mit 100 Werten, die gleichmäßig zwischen 0 und 10 verteilt sind.\n",
    "Wenn Sie die Anzahl an erzeugten Werten verändern möchten, können Sie als dritten Parameter die gewünschte Anzahl angeben.\n",
    "\n",
    "Um später auf das erzeugte Array zugreifen zu können, müssen Sie es in einer Variablen abspeichern.\n",
    "In Python werden Werte mithilfe des Gleichheitszeichens in Variablen gespeichert, wobei die Variable links und der Wert rechts vom Gleichheitszeichen steht.\n",
    "\n",
    "In der folgenden Zelle wird also das Array in der Variable `x` gespeichert, die Python dafür neu anlegt."
   ]
  },
  {
   "cell_type": "code",
   "execution_count": null,
   "metadata": {},
   "outputs": [],
   "source": [
    "x = np.linspace(0, 10)"
   ]
  },
  {
   "cell_type": "markdown",
   "metadata": {},
   "source": [
    "Sie können sich das Array, das Sie gerade erzeugt haben, ansehen, indem Sie es der `print`-Funktion als Parameter übergeben, wie in der folgenden Zelle gezeigt.\n",
    "Auf diese Weise können Sie sich in Python jeden Wert anzeigen lassen."
   ]
  },
  {
   "cell_type": "code",
   "execution_count": null,
   "metadata": {},
   "outputs": [],
   "source": [
    "print(x)"
   ]
  },
  {
   "cell_type": "markdown",
   "metadata": {},
   "source": [
    "$f(x) = \\sin(x)$ kann nun ganz einfach berechnet werden, indem Sie das Array `x` als Parameter an die `numpy`-Funktion `sin` übergeben.\n",
    "Python berechnet dann für jeden Wert aus `x` den entsprechenden Sinus und liefert als Rückgabewert ein Array mit den berechneten Werten."
   ]
  },
  {
   "cell_type": "code",
   "execution_count": null,
   "metadata": {},
   "outputs": [],
   "source": [
    "f = np.sin(x)\n",
    "print(f)"
   ]
  },
  {
   "cell_type": "markdown",
   "metadata": {},
   "source": [
    "Zum Plotten kommt nun `matplotlib` zum Einsatz, das Sie oben als `plt` importiert haben.\n",
    "Die Funktion `figure` erzeugt eine neue Figur, in der die Werte mit `plot` dargestellt werden.\n",
    "Die Funktion `plot` erwartet ein Array mit den Abszissenwerten als ersten und ein Array mit den Ordinatenwerten als zweiten Parameter.\n",
    "\n",
    "Mit dem Befehl `%matplotlib notebook` sagen Sie `matplotlib`, wie die geplotteten Diagramme dargestellt werden sollen.\n",
    "Das Semikolon nach dem Plot-Befehl unterdrückt die Anzeige des Rückgabewertes, der hier nicht interessiert."
   ]
  },
  {
   "cell_type": "code",
   "execution_count": null,
   "metadata": {},
   "outputs": [],
   "source": [
    "%matplotlib notebook\n",
    "fig = plt.figure()\n",
    "plt.plot(x, f);"
   ]
  },
  {
   "cell_type": "markdown",
   "metadata": {},
   "source": [
    "Nun sollen noch die Achsen beschriftet werden.\n",
    "Dazu übergeben Sie den entsprechenden Funktionen aus `matplotlib` einen String.\n",
    "Ein String ist ein Wert, der Text repräsentiert, und wird definiert, indem der Text mit Anführungszeichen umgeben wird."
   ]
  },
  {
   "cell_type": "code",
   "execution_count": null,
   "metadata": {},
   "outputs": [],
   "source": [
    "plt.xlabel(\"x\")\n",
    "plt.ylabel(\"f(x)\")\n",
    "plt.title(\"Sinus\");"
   ]
  },
  {
   "cell_type": "markdown",
   "metadata": {},
   "source": [
    "Schließlich soll das Diagramm abgespeichert werden.\n",
    "Dafür verwenden Sie die Methode `savefig` der Variablen `fig`.\n",
    "\n",
    "Eine Methode ist eine Funktion, die fest zu einer Variablen gehört.\n",
    "Beim Aufruf einer Methode muss die Variable vor den Namen der Methode geschrieben werden, wie unten gezeigt.\n",
    "\n",
    "Die Methode `savefig` erwartet als Parameter den Dateinamen, unter dem die Figur gespeichert werden soll, als String.\n",
    "Die Endung des Dateinamens bestimmt dabei den Dateityp; in den meisten Fällen empfiehlt sich das PDF-Format oder das PNG-Format.\n",
    "\n",
    "Speichern Sie nun die Figur in die Datei „sinus.pdf“."
   ]
  },
  {
   "cell_type": "code",
   "execution_count": null,
   "metadata": {},
   "outputs": [],
   "source": [
    "fig.savefig(\"sinus.pdf\")"
   ]
  },
  {
   "cell_type": "markdown",
   "metadata": {},
   "source": [
    "In dem Ordner, in dem dieses Notebook liegt, sollte jetzt auch die Datei „sinus.pdf“ mit dem Diagramm liegen."
   ]
  },
  {
   "cell_type": "markdown",
   "metadata": {},
   "source": [
    "## c) Anwendung: Kosinus plotten"
   ]
  },
  {
   "cell_type": "markdown",
   "metadata": {},
   "source": [
    "Wenden Sie nun das eben erworbene Wissen an, indem Sie $g(x) = \\cos(x)$ auf dem Intervall $[-10,10]$ plotten.\n",
    "Achten Sie auf eine sinnvolle Achsenbeschriftung.\n",
    "Berechnen Sie außerdem genügend viele Werte, damit der Graph nicht zu kantig dargestellt wird.\n",
    "\n",
    "Speichern Sie das Ergebnis in einer Datei ab."
   ]
  },
  {
   "cell_type": "code",
   "execution_count": null,
   "metadata": {},
   "outputs": [],
   "source": []
  },
  {
   "cell_type": "markdown",
   "metadata": {},
   "source": [
    "## d) Elementare Rechenoperationen\n",
    "\n",
    "Sie können in Python natürlich auch elementare Rechenoperationen durchführen.\n",
    "Die wichtigsten Rechenoperatoren in Python sind\n",
    "* `+` für Addition,\n",
    "* `-` für Subtraktion,\n",
    "* `*` für Multiplikation und\n",
    "* `/` für Division.\n",
    "\n",
    "Die Operatoren werden, wie Sie das auch aus der Mathematik kennen, zwischen die Operanden geschrieben, z. B. ergibt\n",
    "```python\n",
    "x = 1 + 2\n",
    "```\n",
    "den Wert `3` und speichert ihn in der Variablen `x`.\n",
    "\n",
    "Es gelten die üblichen Rechenregeln („Punkt vor Strich“); zum Klammern können nur die runden Klammern verwendet werden.\n",
    "Beachten Sie, dass Dezimalbrüche in Python einen Punkt anstatt des Kommas verwenden."
   ]
  },
  {
   "cell_type": "markdown",
   "metadata": {},
   "source": [
    "Berechnen Sie nun\n",
    "\\begin{equation}\n",
    "h(x) = \\frac{1}{10} \\cdot \\sin(20 \\cdot x) + \\cos(x - \\pi)\n",
    "\\end{equation}\n",
    "auf dem Intervall $[-10,10]$ und speichern Sie das Ergebnis in einer Variablen.\n",
    "Den Wert von $\\pi$ erhalten Sie mit `np.pi`."
   ]
  },
  {
   "cell_type": "code",
   "execution_count": null,
   "metadata": {},
   "outputs": [],
   "source": []
  },
  {
   "cell_type": "markdown",
   "metadata": {},
   "source": [
    "Sie können mehrere Graphen in einer Figur plotten, indem Sie die Funktion `plot` mehrmals für die Figur aufrufen.\n",
    "Die verschiedenen Graphen werden dann automatisch in unterschiedlichen Farben dargestellt.\n",
    "\n",
    "Außerdem empfiehlt sich dann die Verwendung einer Legende.\n",
    "Mit dem sogenannten Keyword-Argument `label` können den einzelnen Graphen Label zugewiesen werden:\n",
    "```python\n",
    "plt.plot(x, np.sin(x), label=\"sin(x)\")\n",
    "```\n",
    "Bei Aufruf der Funktion `plt.legend` wird eine Legende angezeigt, welche die Label der Graphen als Beschreibung enthält.\n",
    "\n",
    "Plotten Sie nun $f(x)$, $g(x)$ und $h(x)$ im Intervall $[-10,10]$ zusammen in eine Figur.\n",
    "Wählen Sie eine geeignete Anzahl an x-Werten, erstellen Sie eine Legende, beschriften Sie die Achsen und speichern Sie das Diagramm ab."
   ]
  },
  {
   "cell_type": "code",
   "execution_count": null,
   "metadata": {},
   "outputs": [],
   "source": []
  }
 ],
 "metadata": {
  "kernelspec": {
   "display_name": "Python 3",
   "language": "python",
   "name": "python3"
  },
  "language_info": {
   "codemirror_mode": {
    "name": "ipython",
    "version": 3
   },
   "file_extension": ".py",
   "mimetype": "text/x-python",
   "name": "python",
   "nbconvert_exporter": "python",
   "pygments_lexer": "ipython3",
   "version": "3.6.6"
  }
 },
 "nbformat": 4,
 "nbformat_minor": 2
}
