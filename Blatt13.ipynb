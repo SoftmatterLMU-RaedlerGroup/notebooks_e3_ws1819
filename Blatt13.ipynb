{
 "cells": [
  {
   "cell_type": "code",
   "execution_count": null,
   "metadata": {},
   "outputs": [],
   "source": [
    "from matplotlib import pyplot as plt\n",
    "import numpy as np"
   ]
  },
  {
   "cell_type": "code",
   "execution_count": null,
   "metadata": {},
   "outputs": [],
   "source": [
    "# note: x0 ist Abstand senkrecht auf der Filmebene\n",
    "# Filmebene ist y-z \n",
    "def intensity(y,z):\n",
    "    E_e = E*np.exp(1j*k*x0)\n",
    "    r1=np.sqrt(x0**2 + (y+y0)**2 + z**2)\n",
    "    E_k1 =  E1*x0/r1*np.exp(1j*k*r1)\n",
    "    r2=np.sqrt(x0**2 + (y-y0)**2 + z**2)\n",
    "    E_k2 =  E2*x0/r2*np.exp(1j*k*r2)\n",
    "    E_abs = np.abs(E_k2+E_e+E_k1)**2  \n",
    "    return E_abs\n",
    "\n",
    "E = 1\n",
    "l=5e-4  #Wellenlänge 5e-4 mm = 500 nm\n",
    "k = 2*np.pi/l\n",
    "y = np.arange(-1.5, 1.5, 0.02)\n",
    "z = np.arange(-1.5, 1.5, 0.02)\n",
    "yy, zz = np.meshgrid(y, z, sparse=True)"
   ]
  },
  {
   "cell_type": "code",
   "execution_count": null,
   "metadata": {},
   "outputs": [],
   "source": [
    "E1=1; E2=0  # Streuamlituden der beiden Streuer 1 und 2\n",
    "x0 = 250    # in mm, x0 ist Abstand der Streuer von der Filmebene  \n",
    "y0 = 0      # in mm\n",
    "intfilm = intensity(yy,zz)\n",
    "h = plt.contourf(y,z,intfilm,100,cmap='gray')\n",
    "plt.gca().set_aspect('equal')"
   ]
  },
  {
   "cell_type": "code",
   "execution_count": null,
   "metadata": {},
   "outputs": [],
   "source": [
    "E1=1; E2=1\n",
    "x0=250\n",
    "y0=1\n",
    "intfilm = intensity(yy,zz)\n",
    "h = plt.contourf(y,z,intfilm,100,cmap='gray')\n",
    "plt.gca().set_aspect('equal')"
   ]
  },
  {
   "cell_type": "code",
   "execution_count": null,
   "metadata": {},
   "outputs": [],
   "source": []
  }
 ],
 "metadata": {
  "kernelspec": {
   "display_name": "Python 3",
   "language": "python",
   "name": "python3"
  },
  "language_info": {
   "codemirror_mode": {
    "name": "ipython",
    "version": 3
   },
   "file_extension": ".py",
   "mimetype": "text/x-python",
   "name": "python",
   "nbconvert_exporter": "python",
   "pygments_lexer": "ipython3",
   "version": "3.7.0"
  }
 },
 "nbformat": 4,
 "nbformat_minor": 2
}
