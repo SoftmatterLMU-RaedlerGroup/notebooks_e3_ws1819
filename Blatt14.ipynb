{
 "cells": [
  {
   "cell_type": "code",
   "execution_count": 5,
   "metadata": {
    "collapsed": true
   },
   "outputs": [],
   "source": [
    "# -*- coding: utf-8 -*-\n",
    "\"\"\"\n",
    "Created on Thu Jan 17 13:15:20 2019\n",
    "\n",
    "@author: Koegl.Maximilian\n",
    "\"\"\"\n",
    "\n",
    "import numpy as np\n",
    "import matplotlib.pyplot as plt\n",
    "\n",
    "# Define Parameters #\n",
    "\n",
    "wellenlaenge=60         # Wellenlänge Lambda in nanometer #\n",
    "n_o=2                   # Ordentlicher Brechungsindex #\n",
    "n_ao=1                  # Außeordentlicher Brechungsindex #\n",
    "c=3*1e8                 # Definiere die Lichtgeschwindigkeit #\n",
    "xLaengeKalkspat=450     # Länge des Kalkspatkristalls in x-Richtung\n",
    "yLaengeKalkspat=300     # Länge des Kalkspatkristalls in y-Richtung\n",
    "posXKalkspat=25         # Linke x-Position des Kalkspats\n",
    "posYKalkspat=100        # Untere y-Position des Kalkspats\n",
    "opticalAxes=[1, 1]      # x-/y-Richtung der optischen Achse \n",
    "n=1                     # Halbe Anzahl der Streuzentren         \n",
    "\n",
    "# Derived Parameters #\n",
    "\n",
    "k=2*np.pi/wellenlaenge\n",
    "omega=k*c\n",
    "normalizedopticalAxes=opticalAxes/(np.sqrt(opticalAxes[0]**2+opticalAxes[1]**2))\n",
    "angleopticalAxes=np.arcsin(normalizedopticalAxes[0])\n",
    "\n",
    "#Define window size area #\n",
    "\n",
    "windowSize=500          #Größe des zu plottenden Fensters#\n",
    "resolutionWindow= 500   #Auflösung des Fensters#\n",
    "plotArea = np.linspace(-windowSize,windowSize,resolutionWindow)\n",
    "\n",
    "\n",
    "# Define Functions #\n",
    "\n",
    "def amplitudeElliptischeKugelwelle (xNull,yNull,xmax,ymax,t): \n",
    "    #xmax und ymax sind arrays i und j sind die indizes für die matrix plotArea\n",
    "    amplitude = np.zeros((len(xmax), len(ymax)), dtype = complex)\n",
    "    i=0\n",
    "    j=0\n",
    "    for x in xmax:\n",
    "        j=0\n",
    "        x=x-xNull+yLaengeKalkspat\n",
    "        for y in ymax:\n",
    "            if (2*yLaengeKalkspat-1>x and x>1 and xLaengeKalkspat>y and y>1-xLaengeKalkspat):\n",
    "                y=y-yNull\n",
    "                r=np.sqrt(((x*np.cos(angleopticalAxes)+y*np.sin(angleopticalAxes))/(n_ao))**2+((x*np.sin(angleopticalAxes)-y*np.cos(angleopticalAxes))/(n_o))**2)\n",
    "                amplitude[i,j]=(np.exp(1j*(k*r-omega*t)))\n",
    "            elif x==0:\n",
    "                amplitude[i,j]=1+0j\n",
    "            else:\n",
    "                amplitude[i,j]=0+0j\n",
    "            j+=1\n",
    "        i+=1\n",
    "    return (np.real(amplitude))\n",
    "def amplitudeKugelwelle (xNull,yNull,xmax,ymax,t): \n",
    "    #xmax und ymax sind arrays i und j sind die indizes für die matrix plotArea\n",
    "    amplitude = np.zeros((len(xmax), len(ymax)), dtype = complex)\n",
    "    k=2*np.pi/wellenlaenge\n",
    "    omega=k*c\n",
    "    i=0\n",
    "    j=0\n",
    "    for x in xmax:\n",
    "        j=0\n",
    "        x=x-xNull+yLaengeKalkspat\n",
    "        for y in ymax:\n",
    "            if (2*yLaengeKalkspat-1>x and x>0 and xLaengeKalkspat>y and y>1-xLaengeKalkspat):\n",
    "                y=y-yNull\n",
    "                r=np.sqrt((x/n_o)**2+(y/n_o)**2)\n",
    "                amplitude[i,j]=(np.exp(1j*(k*r-omega*t)))\n",
    "            else:\n",
    "                amplitude[i,j]=0+0j\n",
    "                    \n",
    "            j+=1\n",
    "        i+=1\n",
    "    return (np.real(amplitude))\n",
    "    \n",
    "\n"
   ]
  },
  {
   "cell_type": "code",
   "execution_count": 6,
   "metadata": {
    "collapsed": true
   },
   "outputs": [],
   "source": [
    "#Plot Kugelwelle #\n",
    "\n",
    "fig = plt.subplots(1,figsize=(15,15))\n",
    "\n",
    "\n",
    "i=-n\n",
    "for i in range (-n,n+1):\n",
    "    #plt.contour(amplitudeElliptischeKugelwelle(0,20*i,plotArea,plotArea,0)[:,:],1,colors='blue')\n",
    "    plt.contour(amplitudeKugelwelle(0,20*i,plotArea,plotArea,0)[:,:],1,colors='r')\n",
    "    i+=1\n",
    "\n",
    "plt.show()"
   ]
  },
  {
   "cell_type": "code",
   "execution_count": 7,
   "metadata": {
    "collapsed": true
   },
   "outputs": [],
   "source": [
    "#Plot Ellipsenwelle #\n",
    "\n",
    "fig = plt.subplots(1,figsize=(15,15))\n",
    "\n",
    "\n",
    "i=-n\n",
    "for i in range (-n,n+1):\n",
    "    plt.contour(amplitudeElliptischeKugelwelle(0,20*i,plotArea,plotArea,0)[:,:],1,colors='blue')\n",
    "    #plt.contour(amplitudeKugelwelle(0,20*i,plotArea,plotArea,0)[:,:],1,colors='r')\n",
    "    i+=1\n",
    "\n",
    "plt.show()"
   ]
  },
  {
   "cell_type": "code",
   "execution_count": 8,
   "metadata": {
    "collapsed": true
   },
   "outputs": [],
   "source": [
    "#Plot Doppelbrechung #\n",
    "\n",
    "fig = plt.subplots(1,figsize=(15,15))\n",
    "\n",
    "\n",
    "i=-n\n",
    "for i in range (-n,n+1):\n",
    "    plt.contour(amplitudeElliptischeKugelwelle(0,20*i,plotArea,plotArea,0)[:,:],1,colors='blue')\n",
    "    plt.contour(amplitudeKugelwelle(0,20*i,plotArea,plotArea,0)[:,:],1,colors='r')\n",
    "    i+=1\n",
    "\n",
    "plt.show()"
   ]
  },
  {
   "cell_type": "code",
   "execution_count": null,
   "metadata": {
    "collapsed": true
   },
   "outputs": [],
   "source": []
  }
 ],
 "metadata": {
  "kernelspec": {
   "display_name": "Python 3",
   "language": "python",
   "name": "python3"
  },
  "language_info": {
   "codemirror_mode": {
    "name": "ipython",
    "version": 3
   },
   "file_extension": ".py",
   "mimetype": "text/x-python",
   "name": "python",
   "nbconvert_exporter": "python",
   "pygments_lexer": "ipython3",
   "version": "3.7.1"
  }
 },
 "nbformat": 4,
 "nbformat_minor": 1
}
